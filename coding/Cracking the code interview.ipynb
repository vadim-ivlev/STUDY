{
 "cells": [
  {
   "cell_type": "markdown",
   "metadata": {},
   "source": [
    "**1.1 Is Unique**: Implement an algorithm to determine if a string has all unique characters. What if you cannot use additional data structures?"
   ]
  },
  {
   "cell_type": "code",
   "execution_count": 43,
   "metadata": {},
   "outputs": [
    {
     "name": "stdout",
     "output_type": "stream",
     "text": [
      "1.88 µs ± 12.2 ns per loop (mean ± std. dev. of 7 runs, 1000000 loops each)\n"
     ]
    }
   ],
   "source": [
    "# from IPython.core.debugger import set_trace\n",
    "\n",
    "def has_unique_characters(str=''):\n",
    "    '''\n",
    "    Checks if a string has all unique characters\n",
    "    \n",
    "    >>> has_unique_characters('abc')\n",
    "    True\n",
    "    >>> has_unique_characters()\n",
    "    True\n",
    "    >>> has_unique_characters('abac')\n",
    "    False\n",
    "    '''\n",
    "#     1/ time: 1.74 µs ± 14.5 ns ---------------------------\n",
    "#     unique_chars = dict.fromkeys(str,1)\n",
    "#     return len(unique_chars)==len(str)\n",
    "\n",
    "\n",
    "#     2/ time: 1.04 µs ± 7.39 ns using dictionary ----------\n",
    "#     unique_chars ={}\n",
    "#     for char in str:\n",
    "#         if char in unique_chars:\n",
    "#             return False\n",
    "#         unique_chars[char]=1\n",
    "#     return True\n",
    "\n",
    "\n",
    "#     3/ 1.4 µs ± 19.1 ns using a set -----------------------\n",
    "#     char_set =set()\n",
    "#     for char in str:\n",
    "#         if char in char_set:\n",
    "#             return False\n",
    "#         char_set.add(char)\n",
    "#     return True\n",
    "\n",
    "#     4/ 3.16 µs ± 131 ns using a bit vector ----------------\n",
    "#     bit_vector =0b0\n",
    "#     pos_a=ord('a')\n",
    "    \n",
    "#     import pdb; pdb.set_trace()\n",
    "#     for char in str:\n",
    "#         pos_char=ord(char)-pos_a\n",
    "#         if bit_vector & (1 << pos_char):\n",
    "#             return False\n",
    "#         bit_vector |= (1 << pos_char)\n",
    "#     return True\n",
    "\n",
    "#     5/ 1.88 µs ± 12.2 ns Array -----------------------------\n",
    "    a =[0]*40\n",
    "    pos_a=ord('a')\n",
    "    \n",
    "#     import pdb; pdb.set_trace()\n",
    "    for char in str:\n",
    "        pos_char=ord(char)-pos_a\n",
    "        if a[pos_char]:\n",
    "            return False\n",
    "        a[pos_char] =1\n",
    "    return True\n",
    "\n",
    "\n",
    "\n",
    "# print(has_unique_characters('qwertyuuidfsdgsg'))\n",
    "\n",
    "\n",
    "\n",
    "%timeit has_unique_characters('qwertyuuidfsdgsg')\n",
    "# import doctest; doctest.testmod()\n",
    "\n"
   ]
  },
  {
   "cell_type": "markdown",
   "metadata": {},
   "source": [
    "&nbsp;\n",
    "\n",
    "&nbsp;\n",
    "\n",
    "---\n",
    "**1.2 Check Permutation:** Given two strings,write a method to decide if one is a permutation of the\n",
    "other.\n"
   ]
  },
  {
   "cell_type": "code",
   "execution_count": 37,
   "metadata": {},
   "outputs": [
    {
     "name": "stdout",
     "output_type": "stream",
     "text": [
      "True\n"
     ]
    }
   ],
   "source": [
    "# def isPermutations(s1,s2):\n",
    "#     len1 = len(s1)\n",
    "#     len2 = len(s2)\n",
    "    \n",
    "#     if len1 != len2:\n",
    "#         return False\n",
    "    \n",
    "#     ss1=sorted(s1)\n",
    "#     ss2=sorted(s2)\n",
    "    \n",
    "#     for i in range(0,len1):\n",
    "#         if ss1[i] != ss2[i]:\n",
    "#             return False\n",
    "#     return True\n",
    "\n",
    "\n",
    "def isPermutations(s1,s2):\n",
    "    if len(s1) != len(s2):\n",
    "        return False\n",
    "\n",
    "    char_counts={}\n",
    "\n",
    "    \n",
    "    # fill it    \n",
    "    for c in s1:\n",
    "        char_counts[c] = char_counts.get(c,0) +1\n",
    "\n",
    "    # empty it\n",
    "    for c in s2:\n",
    "        char_counts[c] = char_counts.get(c,0) -1\n",
    "\n",
    "    # check if all are 0\n",
    "    for c in char_counts:\n",
    "        if char_counts[c] != 0:\n",
    "            return False\n",
    "\n",
    "    return True\n",
    "\n",
    "\n",
    "\n",
    "\n",
    "        \n",
    "print( isPermutations('abcdefffgh', 'dcabefghff') )\n",
    "\n",
    "\n"
   ]
  },
  {
   "cell_type": "markdown",
   "metadata": {},
   "source": [
    "# 1.3 URLify : \n",
    "Write a method to replace all spaces in a string with '%20  You may assume that the string has suf cient space at the end to hold the additional characters, and that you are given the \"true\" length of the string. (Note: if implementing in Java, please use a character array so that you can perform this operation in place.)\n",
    "\n",
    "|EXAMPLE||\n",
    "|:---|:---|\n",
    "|Input: |\"Mr John Smith \", 13|\n",
    "| Output: | \"Mr%20John%20Smith\"|"
   ]
  },
  {
   "cell_type": "code",
   "execution_count": 94,
   "metadata": {},
   "outputs": [
    {
     "data": {
      "text/plain": [
       "True"
      ]
     },
     "execution_count": 94,
     "metadata": {},
     "output_type": "execute_result"
    }
   ],
   "source": [
    "def urlify(ss=\"Mr John Smith    \", true_len=13):\n",
    "#     574 ns ± 47.7 ns\n",
    "#     return s.strip().replace(' ','%20')\n",
    "\n",
    "#     760 ns ± 34 ns\n",
    "#     return '%20'.join(s.strip().split(' '))\n",
    "    \n",
    "#     6.54 µs ± 191 ns\n",
    "#     n_spaces = ss.count(' ',0,true_len)\n",
    "    n_spaces = 0\n",
    "    for i in range(0,true_len):\n",
    "        if ss[i]==' ':\n",
    "            n_spaces +=1\n",
    "    s=list(ss)\n",
    "    for i in range(true_len-1,0,-1):\n",
    "        if s[i] != ' ':\n",
    "            s[i+n_spaces*2]=s[i]\n",
    "        else:\n",
    "            s[i+n_spaces*2]='0'\n",
    "            s[i+n_spaces*2-1]='2'\n",
    "            s[i+n_spaces*2-2]='%'\n",
    "            n_spaces -= 1\n",
    "    return ''.join(s)\n",
    "\n",
    "\n",
    "urlify()==\"Mr%20John%20Smith\"\n",
    "\n",
    "# %timeit urlify()    \n"
   ]
  },
  {
   "cell_type": "markdown",
   "metadata": {},
   "source": [
    "# 1.5 One Away: \n",
    "There are three types of edits that can be performed on strings: insert a character, remove a character, or replace a character. Given two strings, write a function to check if they are one edit (or zero edits) away.\n",
    "#### EXAMPLE\n",
    "```\n",
    "pale, ple -> true \n",
    "pales, pale -> true \n",
    "pale, bale -> true \n",
    "pale, bake -> false\n",
    "```\n",
    "\n",
    "1h"
   ]
  },
  {
   "cell_type": "code",
   "execution_count": 19,
   "metadata": {},
   "outputs": [
    {
     "name": "stdout",
     "output_type": "stream",
     "text": [
      "True True\n",
      "True True\n",
      "True True\n",
      "True True\n",
      "False False\n"
     ]
    },
    {
     "data": {
      "text/plain": [
       "TestResults(failed=0, attempted=5)"
      ]
     },
     "execution_count": 19,
     "metadata": {},
     "output_type": "execute_result"
    }
   ],
   "source": [
    "def first_diff(old, new):\n",
    "    for i in range(0, min(  len(old), len(new)  )):\n",
    "        if old[i] != new[i]:\n",
    "            return i\n",
    "    return i+1\n",
    "\n",
    "\n",
    "\n",
    "def inserted1(old, new):\n",
    "    if len(new)-len(old)!=1:\n",
    "        return False\n",
    "    \n",
    "    i = first_diff(old,new)\n",
    "    \n",
    "    if old[i:] == new[i+1:]:\n",
    "        return True\n",
    "    return False\n",
    "\n",
    "    \n",
    "    return True\n",
    "\n",
    "\n",
    "\n",
    "\n",
    "def deleted1(old, new):\n",
    "    if len(new)-len(old)!=-1:\n",
    "        return False\n",
    "    \n",
    "    i = first_diff(old,new)\n",
    "    \n",
    "    if old[i+1:] == new[i:]:\n",
    "        return True\n",
    "    return False\n",
    "\n",
    "\n",
    "    return True\n",
    "\n",
    "\n",
    "\n",
    "def updated1(old, new):\n",
    "    if len(new)-len(old)!=0:\n",
    "        return False\n",
    "    \n",
    "    i = first_diff(old,new)\n",
    "    \n",
    "    if old[i+1:] == new[i+1:]:\n",
    "        return True\n",
    "    return False\n",
    "\n",
    "\n",
    "    \n",
    "def zero_or_one(old, new):\n",
    "#     if old == new :\n",
    "#         return True\n",
    "    \n",
    "#     if inserted1(old,new) \\\n",
    "#     or updated1(old,new)  \\\n",
    "#     or deleted1(old,new):\n",
    "#         return True\n",
    "\n",
    "#     return False\n",
    "\n",
    "\n",
    "#     len_diff = len(new)-len(old)\n",
    "#     checks = {0:updated1, 1:inserted1, -1:deleted1}\n",
    "#     return checks.get(len_diff, lambda o,n: False)(old,new)\n",
    "\n",
    "\n",
    "    len_diff = len(new)-len(old)\n",
    "    \n",
    "    if len_diff == 0:    return updated1(old,new)\n",
    "    elif len_diff ==1:   return inserted1(old,new)\n",
    "    elif len_diff == -1: return deleted1(old,new)\n",
    "    else:                return False\n",
    "\n",
    "\n",
    "print (True, zero_or_one('pale', 'pale'))\n",
    "print (True, zero_or_one('pale', 'ple'))\n",
    "print (True, zero_or_one('pales', 'pale')) \n",
    "print (True, zero_or_one('pale', 'bale'))\n",
    "print (False,zero_or_one('pale', 'bake')) \n",
    "\n",
    "\n",
    "\n",
    "\n",
    "\n",
    "\"\"\"\n",
    ">>> zero_or_one('pale', 'pale')\n",
    "True\n",
    ">>> zero_or_one('pale', 'ple')\n",
    "True\n",
    ">>> zero_or_one('pales', 'pale') \n",
    "True\n",
    ">>> zero_or_one('pale', 'bale') \n",
    "True\n",
    ">>> zero_or_one('pale', 'bake') \n",
    "False\n",
    "\"\"\"\n",
    "\n",
    "\n",
    "import doctest; doctest.testmod()"
   ]
  },
  {
   "cell_type": "markdown",
   "metadata": {},
   "source": [
    "# 1.6 String Compression: \n",
    "Implement a method to perform basic string compression using the counts of repeated characters. For example, the string aabcccccaaa would become a2blc5a3. If the \"compressed\" string would not become smaller than the original string, your method should return\n",
    "the original string. You can assume the string has only uppercase and lowercase letters (a - z)."
   ]
  },
  {
   "cell_type": "code",
   "execution_count": 12,
   "metadata": {},
   "outputs": [
    {
     "name": "stdout",
     "output_type": "stream",
     "text": [
      "x1a3b2c1d4 2e3 1\n",
      "xaa\n"
     ]
    }
   ],
   "source": [
    "char=''\n",
    "count=0\n",
    "\n",
    "def compr(c):\n",
    "    global char,count\n",
    "    \n",
    "    if char == c:\n",
    "        count+=1\n",
    "        return ''\n",
    " \n",
    "    old_char, old_count = char, count\n",
    "    char, count = c, 1\n",
    "    \n",
    "    if old_count>0:\n",
    "        return '{}{}'.format(old_char,old_count)\n",
    "    \n",
    "    return ''\n",
    "    \n",
    "\n",
    "def compress(string):\n",
    "    s=''\n",
    "    for c in string:\n",
    "        s+=compr(c)\n",
    "    \n",
    "    s+=compr('')\n",
    "    \n",
    "    return string if len(string) <= len(s) else s\n",
    "\n",
    "\n",
    "\n",
    "print(compress('xaaabbcdddd  eee '))\n",
    "print(compress('xaa'))\n",
    "\n",
    "    \n",
    "        "
   ]
  },
  {
   "cell_type": "markdown",
   "metadata": {},
   "source": [
    "# 1.7 Rotate Matrix: \n",
    "Given an image represented by an NxN matrix, where each pixel in the image is 4 bytes, write a method to rotate the image by 90 degrees. Can you do this in place?\n",
    "\n",
    "\n",
    "<img src='rotate90.png' width='400'>"
   ]
  },
  {
   "cell_type": "code",
   "execution_count": 79,
   "metadata": {
    "code_folding": []
   },
   "outputs": [
    {
     "name": "stdout",
     "output_type": "stream",
     "text": [
      "   1   2   3   4   5\n",
      "   6   7   8   9  10\n",
      "  11  12  13  14  15\n",
      "  16  17  18  19  20\n",
      "  21  22  23  24  25\n",
      "\n",
      "rotated:\n",
      "  21  16  11   6   1\n",
      "  22  17  12   7   2\n",
      "  23  18  13   8   3\n",
      "  24  19  14   9   4\n",
      "  25  20  15  10   5\n",
      "\n"
     ]
    }
   ],
   "source": [
    "N = 3\n",
    "m = [\n",
    "    [1, 2, 3],\n",
    "    [4, 5, 6],\n",
    "    [7, 8, 9]\n",
    "]\n",
    "\n",
    "\n",
    "def generate_m(N):\n",
    "    '''Generates a square matrix NxN'''\n",
    "    k = 1\n",
    "    m = []\n",
    "    for i in range(0, N):\n",
    "        n = []\n",
    "        m.append(n)\n",
    "        for j in range(0, N):\n",
    "            n.append(k)\n",
    "            k += 1\n",
    "    return m\n",
    "\n",
    "\n",
    "def print_m(m, N):\n",
    "    \"Pretty prints matrix\"\n",
    "    for i in range(0, N):\n",
    "        for j in range(0, N):\n",
    "            print('{0:>4d}'.format(m[i][j]), end='')\n",
    "        print()\n",
    "    print()\n",
    "\n",
    "\n",
    "def rotate(l, n):\n",
    "    '''Rotates list to the right'''\n",
    "    return l[n:]+l[:n]\n",
    "\n",
    "\n",
    "def rotate_m(m, N):\n",
    "    for i in range(0, N//2+N % 2):\n",
    "        for j in range(0, N//2):\n",
    "            cp = [m[i][j], m[N-j-1][i], m[N-i-1][N-j-1], m[j][N-i-1]].copy()\n",
    "            [m[i][j], m[N-j-1][i], m[N-i-1][N-j-1],\n",
    "                m[j][N-i-1]] = rotate(cp, 1)\n",
    "\n",
    "\n",
    "N = 5\n",
    "m = generate_m(N)\n",
    "print_m(m, N)\n",
    "\n",
    "print('rotated:')\n",
    "rotate_m(m, N)\n",
    "print_m(m, N)\n",
    "\n",
    "[x for x in dir() if not x.startswith('__')]\n",
    "\n"
   ]
  }
 ],
 "metadata": {
  "kernelspec": {
   "display_name": "Python 3",
   "language": "python",
   "name": "python3"
  },
  "language_info": {
   "codemirror_mode": {
    "name": "ipython",
    "version": 3
   },
   "file_extension": ".py",
   "mimetype": "text/x-python",
   "name": "python",
   "nbconvert_exporter": "python",
   "pygments_lexer": "ipython3",
   "version": "3.6.2"
  },
  "varInspector": {
   "cols": {
    "lenName": 16,
    "lenType": 16,
    "lenVar": 40
   },
   "kernels_config": {
    "python": {
     "delete_cmd_postfix": "",
     "delete_cmd_prefix": "del ",
     "library": "var_list.py",
     "varRefreshCmd": "print(var_dic_list())"
    },
    "r": {
     "delete_cmd_postfix": ") ",
     "delete_cmd_prefix": "rm(",
     "library": "var_list.r",
     "varRefreshCmd": "cat(var_dic_list()) "
    }
   },
   "types_to_exclude": [
    "module",
    "function",
    "builtin_function_or_method",
    "instance",
    "_Feature"
   ],
   "window_display": false
  }
 },
 "nbformat": 4,
 "nbformat_minor": 2
}
