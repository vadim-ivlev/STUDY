{
 "cells": [
  {
   "cell_type": "code",
   "execution_count": 22,
   "metadata": {},
   "outputs": [
    {
     "name": "stdout",
     "output_type": "stream",
     "text": [
      "> 1\n",
      "> 2\n",
      "> 3\n",
      "3->2->1\n",
      "2->1\n"
     ]
    }
   ],
   "source": [
    "class Node:\n",
    "    def __init__(self,val=None,next_node=None):\n",
    "        self.data=val\n",
    "        self.next=next_node\n",
    "    \n",
    "    def __repr__(self):\n",
    "        cur=self\n",
    "        s=str(cur.data)\n",
    "        while cur.next:\n",
    "            cur=cur.next\n",
    "            s=s+'->'+str(cur.data)\n",
    "        return s\n",
    "\n",
    "\n",
    "\n",
    "def Reverse1(head):\n",
    "    if not head:\n",
    "        return None\n",
    "    \n",
    "    cur = head\n",
    "    pre=None\n",
    "    \n",
    "    while cur:\n",
    "        n= cur.next\n",
    "        cur.next=pre\n",
    "        \n",
    "        pre=cur\n",
    "        cur=n\n",
    "        \n",
    "    return pre\n",
    "\n",
    "def Reverse2(head):\n",
    "    if not head:\n",
    "        return None\n",
    "    \n",
    "    def relink(cur,pre):\n",
    "        if not cur:\n",
    "            return pre\n",
    "        \n",
    "        n=cur.next\n",
    "        cur.next=pre\n",
    "        return relink(n, cur)\n",
    "    \n",
    "    return relink(head,None)\n",
    "\n",
    "\n",
    "H=Node(1, Node(2, Node(3)))\n",
    "print(Reverse1(H))\n",
    "\n",
    "H=Node(1, Node(2, Node(3)))\n",
    "\n",
    "H=Node(1, Node(2))\n",
    "\n",
    "print(Reverse2(H))\n",
    "\n"
   ]
  }
 ],
 "metadata": {
  "kernelspec": {
   "display_name": "Python 3",
   "language": "python",
   "name": "python3"
  },
  "language_info": {
   "codemirror_mode": {
    "name": "ipython",
    "version": 3
   },
   "file_extension": ".py",
   "mimetype": "text/x-python",
   "name": "python",
   "nbconvert_exporter": "python",
   "pygments_lexer": "ipython3",
   "version": "3.6.4"
  }
 },
 "nbformat": 4,
 "nbformat_minor": 2
}
