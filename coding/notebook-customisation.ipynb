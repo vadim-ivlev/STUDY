{
 "cells": [
  {
   "cell_type": "markdown",
   "metadata": {},
   "source": [
    "\n",
    "<hr>\n",
    "# 28 Jupyter Notebook tips, tricks, and shortcuts\n",
    "\n",
    "https://www.dataquest.io/blog/jupyter-notebook-tips-tricks-shortcuts/\n"
   ]
  },
  {
   "cell_type": "markdown",
   "metadata": {},
   "source": [
    "<hr>\n",
    "\n",
    "# Edit IPython cell in an external editor\n",
    "\n",
    "\n",
    "https://stackoverflow.com/questions/28309430/edit-ipython-cell-in-an-external-editor\n",
    "\n",
    "\n",
    "\n",
    "This is what I came up with. I added 2 shortcuts:\n",
    "\n",
    "- 'g' to launch gvim with the content of the current cell (you can replace gvim with whatever text editor you like).\n",
    "- 'u' to update the content of the current cell with what was saved by gvim.\n",
    "So, when you want to edit the cell with your preferred editor, hit 'g', make the changes you want to the cell, save the file in your editor (and quit), then hit 'u'.\n",
    "\n",
    "Just execute this cell to enable these features\n",
    "or put it in `~/.jupiter/custom/custom.js`\n"
   ]
  },
  {
   "cell_type": "code",
   "execution_count": 1,
   "metadata": {
    "code_folding": [],
    "hide_input": false
   },
   "outputs": [
    {
     "data": {
      "application/javascript": [
       "\n",
       "IPython.keyboard_manager.command_shortcuts.add_shortcut('g', {\n",
       "    help : 'Edit cell in Visual Studio Code',\n",
       "    handler : function (event) {\n",
       "        \n",
       "        var input = IPython.notebook.get_selected_cell().get_text();\n",
       "        \n",
       "        var cmd = \"f = open('.toto.py', 'w');f.close()\";\n",
       "        if (input != \"\") {\n",
       "            cmd = '%%writefile .toto.py\\n' + input;\n",
       "        }\n",
       "        IPython.notebook.kernel.execute(cmd);\n",
       "        //cmd = \"import os;os.system('open -a /Applications/MacVim.app .toto.py')\";\n",
       "        //cmd = \"!open -a /Applications/MacVim.app .toto.py\";\n",
       "        cmd = \"!code .toto.py\";\n",
       "\n",
       "        IPython.notebook.kernel.execute(cmd);\n",
       "        return false;\n",
       "    }}\n",
       ");\n",
       "\n",
       "IPython.keyboard_manager.command_shortcuts.add_shortcut('u', {\n",
       "    help : 'Update cell from externally edited file',\n",
       "    handler : function (event) {\n",
       "        function handle_output(msg) {\n",
       "            var ret = msg.content.text;\n",
       "            IPython.notebook.get_selected_cell().set_text(ret);\n",
       "        }\n",
       "        var callback = {'output': handle_output};\n",
       "        var cmd = \"f = open('.toto.py', 'r');print(f.read())\";\n",
       "        IPython.notebook.kernel.execute(cmd, {iopub: callback}, {silent: false});\n",
       "        return false;\n",
       "    }}\n",
       ");"
      ],
      "text/plain": [
       "<IPython.core.display.Javascript object>"
      ]
     },
     "metadata": {},
     "output_type": "display_data"
    }
   ],
   "source": [
    "%%javascript\n",
    "\n",
    "IPython.keyboard_manager.command_shortcuts.add_shortcut('g', {\n",
    "    help : 'Edit cell in Visual Studio Code',\n",
    "    handler : function (event) {\n",
    "        \n",
    "        var input = IPython.notebook.get_selected_cell().get_text();\n",
    "        \n",
    "        var cmd = \"f = open('.toto.py', 'w');f.close()\";\n",
    "        if (input != \"\") {\n",
    "            cmd = '%%writefile .toto.py\\n' + input;\n",
    "        }\n",
    "        IPython.notebook.kernel.execute(cmd);\n",
    "        //cmd = \"import os;os.system('open -a /Applications/MacVim.app .toto.py')\";\n",
    "        //cmd = \"!open -a /Applications/MacVim.app .toto.py\";\n",
    "        cmd = \"!code .toto.py\";\n",
    "\n",
    "        IPython.notebook.kernel.execute(cmd);\n",
    "        return false;\n",
    "    }}\n",
    ");\n",
    "\n",
    "IPython.keyboard_manager.command_shortcuts.add_shortcut('u', {\n",
    "    help : 'Update cell from externally edited file',\n",
    "    handler : function (event) {\n",
    "        function handle_output(msg) {\n",
    "            var ret = msg.content.text;\n",
    "            IPython.notebook.get_selected_cell().set_text(ret);\n",
    "        }\n",
    "        var callback = {'output': handle_output};\n",
    "        var cmd = \"f = open('.toto.py', 'r');print(f.read())\";\n",
    "        IPython.notebook.kernel.execute(cmd, {iopub: callback}, {silent: false});\n",
    "        return false;\n",
    "    }}\n",
    ");\n"
   ]
  },
  {
   "cell_type": "code",
   "execution_count": 2,
   "metadata": {},
   "outputs": [
    {
     "name": "stdout",
     "output_type": "stream",
     "text": [
      "Enter a number:90\n",
      "this is the number:    90.000\n"
     ]
    }
   ],
   "source": [
    "n = int (input(\"Enter a number:\"))\n",
    "print(\"this is the number:{:10.3f}\".format(n))\n"
   ]
  },
  {
   "cell_type": "markdown",
   "metadata": {},
   "source": [
    "# Debugging\n",
    "\n",
    "```(python)\n",
    "from IPython.core.debugger import set_trace\n",
    "...\n",
    "set_trace()\n",
    "..\n",
    "```\n",
    "#### or\n",
    "```\n",
    "import pdb; pdb.set_trace()\n",
    "```\n"
   ]
  },
  {
   "cell_type": "code",
   "execution_count": null,
   "metadata": {
    "collapsed": true
   },
   "outputs": [],
   "source": [
    "from IPython.core.interactiveshell import InteractiveShell\n",
    "InteractiveShell.ast_node_interactivity = \"all\""
   ]
  }
 ],
 "metadata": {
  "kernelspec": {
   "display_name": "Python 3",
   "language": "python",
   "name": "python3"
  },
  "language_info": {
   "codemirror_mode": {
    "name": "ipython",
    "version": 3
   },
   "file_extension": ".py",
   "mimetype": "text/x-python",
   "name": "python",
   "nbconvert_exporter": "python",
   "pygments_lexer": "ipython3",
   "version": "3.6.2"
  },
  "varInspector": {
   "cols": {
    "lenName": 16,
    "lenType": 16,
    "lenVar": 40
   },
   "kernels_config": {
    "python": {
     "delete_cmd_postfix": "",
     "delete_cmd_prefix": "del ",
     "library": "var_list.py",
     "varRefreshCmd": "print(var_dic_list())"
    },
    "r": {
     "delete_cmd_postfix": ") ",
     "delete_cmd_prefix": "rm(",
     "library": "var_list.r",
     "varRefreshCmd": "cat(var_dic_list()) "
    }
   },
   "types_to_exclude": [
    "module",
    "function",
    "builtin_function_or_method",
    "instance",
    "_Feature"
   ],
   "window_display": false
  }
 },
 "nbformat": 4,
 "nbformat_minor": 2
}
