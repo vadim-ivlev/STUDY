{
 "cells": [
  {
   "cell_type": "code",
   "execution_count": 36,
   "metadata": {
    "code_folding": [
     47
    ]
   },
   "outputs": [
    {
     "data": {
      "text/plain": [
       "'{\"v\": \"*\", \"left\": {\"v\": \"b\", \"left\": {\"v\": \"x\"}, \"right\": {\"v\": \"d\"}}, \"right\": {\"v\": \"c\", \"left\": {\"v\": \"e\"}, \"right\": {\"v\": \"f\"}}}'"
      ]
     },
     "execution_count": 36,
     "metadata": {},
     "output_type": "execute_result"
    }
   ],
   "source": [
    "class BinaryTree:\n",
    "    def __init__(self, val):\n",
    "        self.value=val\n",
    "        self.right=None\n",
    "        self.left=None\n",
    "        \n",
    "    def get_value(self):\n",
    "        return self.value\n",
    "    \n",
    "    def set_value(self,val):\n",
    "        self.value=val\n",
    "        \n",
    "    def get_right(self):\n",
    "        return self.right\n",
    "    \n",
    "    def get_left(self):\n",
    "        return self.left\n",
    "    \n",
    "    def insert_left(self,v):\n",
    "        t=BinaryTree(v)\n",
    "        if self.left:\n",
    "            t.left=self.left\n",
    "        self.left=t\n",
    "        return t\n",
    "        \n",
    "    def insert_right(self,v):\n",
    "        t=BinaryTree(v)\n",
    "        if self.right:\n",
    "            t.right=self.right\n",
    "        self.right=t\n",
    "        return t\n",
    "\n",
    "# ----------------------------------------\n",
    "\n",
    "\n",
    "def build_tree():\n",
    "    a=BinaryTree('*')\n",
    "    b=a.insert_left('b')\n",
    "    b.insert_right('d')\n",
    "\n",
    "    b.insert_left('x')\n",
    "\n",
    "    c=a.insert_right('c')\n",
    "    c.insert_left('e')    \n",
    "    c.insert_right('f')\n",
    "    return a\n",
    "\n",
    "t= build_tree()\n",
    "\n",
    "import textwrap\n",
    "\n",
    "def to_str(t,indent):\n",
    "    if not t: return 'null'\n",
    "    s= (\"\"\"\n",
    "    {{   \n",
    "        value: {:}, \n",
    "        left:  {:}, \n",
    "        right: {:}\n",
    "    }}\"\"\".format(\n",
    "        t.get_value(),\n",
    "        to_str(t.get_left(),indent+4), \n",
    "        to_str(t.get_right(),indent+4)\n",
    "    ))\n",
    "    \n",
    "    return textwrap.indent(s,' '* indent)\n",
    "# print(to_str(t,0))\n",
    "\n",
    "\n",
    "\n",
    "\n",
    "from collections import OrderedDict\n",
    "import json\n",
    "\n",
    "def build_dict(t):\n",
    "    \n",
    "    if not t: return\n",
    "    o=OrderedDict()\n",
    "\n",
    "#     o=dict()\n",
    "\n",
    "    o['v']=t.get_value()\n",
    "    \n",
    "    left=t.get_left()\n",
    "    if left:\n",
    "        o['left']=build_dict(left)\n",
    "    \n",
    "    right=t.get_right()\n",
    "    if right:\n",
    "        o['right']=build_dict(right)\n",
    "    \n",
    "    return o\n",
    "d=build_dict(t)\n",
    "json.dumps(d)\n",
    "    "
   ]
  },
  {
   "cell_type": "code",
   "execution_count": 37,
   "metadata": {},
   "outputs": [
    {
     "data": {
      "image/png": "[encoded data removed]",
      "text/plain": [
       "<matplotlib.figure.Figure at 0x1514fff198>"
      ]
     },
     "metadata": {},
     "output_type": "display_data"
    }
   ],
   "source": [
    "\n",
    "# VISUALIZATION ----------------------\n",
    "\n",
    "import networkx as nx\n",
    "from networkx.drawing.nx_agraph import write_dot, graphviz_layout\n",
    "import matplotlib.pyplot as plt\n",
    "\n",
    "def uid_gen():\n",
    "    n=0\n",
    "    while True:\n",
    "        n+=1\n",
    "        yield n\n",
    "uid=uid_gen()\n",
    "\n",
    "def draw_graph(G):\n",
    "    plt.rcParams[\"figure.figsize\"] = [10.,5.]\n",
    "    pos =graphviz_layout(G, prog='dot')\n",
    "    \n",
    "    node_labels=nx.get_node_attributes(G,'name')\n",
    "\n",
    "    \n",
    "    nx.draw(G,pos, with_labels=True,labels=node_labels, width=2, node_size=1000, node_color=\"orange\",alpha=1.0)\n",
    "    lbls = nx.get_edge_attributes(G,'label')\n",
    "    nx.draw_networkx_edge_labels(G, pos, edge_labels = lbls)\n",
    "#     nx.draw_networkx_nodes(G,pos,node_size=2000, nodelist=['x'])\n",
    "#     nx.draw_networkx_edges(G, pos, alpha=0.9, width=6, edge_color=\"orange\", edgelist=[(1, 'Petya')])\n",
    "#     plt.figure(1)\n",
    "    \n",
    "    plt.show()\n",
    "\n",
    "\n",
    "\n",
    "import uuid\n",
    "# import random\n",
    "\n",
    "\n",
    "\n",
    "def build_graph(g,parent_g_node,t, edge_label=None):\n",
    "#     global count\n",
    "    if not t: return\n",
    "    \n",
    "    node= next(uid)  #str(uuid.uuid4())  #random.random()    \n",
    "    g.add_node(node, name=t.get_value())\n",
    "    if parent_g_node:\n",
    "        g.add_edge(parent_g_node,node, label=edge_label)\n",
    "\n",
    "\n",
    "    left=t.get_left()\n",
    "    right=t.get_right()\n",
    "\n",
    "    if left:\n",
    "        build_graph(g,node, left, 'L')\n",
    "    \n",
    "    if right:\n",
    "        build_graph(g,node, right, 'R')\n",
    "        \n",
    "    return node\n",
    "\n",
    "\n",
    "\n",
    "\n",
    "def show_bin_tree(t):\n",
    "    G=nx.DiGraph()\n",
    "    root=build_graph(G,None,t )\n",
    "    draw_graph(G)\n",
    "\n",
    "\n",
    "show_bin_tree(t)    \n",
    "    "
   ]
  },
  {
   "cell_type": "code",
   "execution_count": 26,
   "metadata": {
    "scrolled": true
   },
   "outputs": [
    {
     "name": "stdout",
     "output_type": "stream",
     "text": [
      "(1, {'name': '*'})\n",
      "(2, {'name': 'b'})\n",
      "(3, {'name': 'x'})\n",
      "(4, {'name': 'd'})\n",
      "(5, {'name': 'c'})\n",
      "(6, {'name': 'e'})\n",
      "(7, {'name': 'f'})\n"
     ]
    },
    {
     "data": {
      "text/plain": [
       "1"
      ]
     },
     "execution_count": 26,
     "metadata": {},
     "output_type": "execute_result"
    }
   ],
   "source": [
    "for n in G.nodes.items():\n",
    "     print(n)\n",
    "G.edges()\n",
    "root"
   ]
  },
  {
   "cell_type": "markdown",
   "metadata": {},
   "source": [
    "# Export JSON to use with D3"
   ]
  },
  {
   "cell_type": "code",
   "execution_count": 124,
   "metadata": {},
   "outputs": [
    {
     "data": {
      "text/plain": [
       "'{\"name\": \"*\", \"id\": 1, \"children\": [{\"name\": \"b\", \"id\": 2, \"children\": [{\"name\": \"x\", \"id\": 3}, {\"name\": \"d\", \"id\": 4}]}, {\"name\": \"c\", \"id\": 5, \"children\": [{\"name\": \"e\", \"id\": 6}, {\"name\": \"f\", \"id\": 7}]}]}'"
      ]
     },
     "execution_count": 124,
     "metadata": {},
     "output_type": "execute_result"
    }
   ],
   "source": [
    "from networkx.readwrite import json_graph\n",
    "import json\n",
    "# json.dumps(json_graph.tree_data(G,root='*',  attrs={'children': 'children', 'id': 'name'}))\n",
    "json.dumps(json_graph.tree_data(G,root=root,  attrs={'children': 'children', 'id': 'id'}))\n",
    "\n"
   ]
  },
  {
   "cell_type": "markdown",
   "metadata": {},
   "source": [
    "Using the information from above we can define four rules as follows:\n",
    "\n",
    "- If the current token is a '(', add a new node as the left child of the current node, and descend to the left child.\n",
    "- If the current token is in the list ['+','-','/','*'], set the root value of the current node to the operator represented by the current token. Add a new node as the right child of the current node and descend to the right child.\n",
    "- If the current token is a number, set the root value of the current node to the number and return to the parent.\n",
    "- If the current token is a ')', go to the parent of the current node.\n"
   ]
  },
  {
   "cell_type": "code",
   "execution_count": 27,
   "metadata": {},
   "outputs": [
    {
     "data": {
      "image/png": "[encoded data removed]",
      "text/plain": [
       "<matplotlib.figure.Figure at 0x150c1f1b38>"
      ]
     },
     "metadata": {},
     "output_type": "display_data"
    }
   ],
   "source": [
    "class BinaryTree:\n",
    "    def __init__(self, val):\n",
    "        self.value = val\n",
    "        self.right = None\n",
    "        self.left = None\n",
    "\n",
    "    def get_value(self):\n",
    "        return self.value\n",
    "\n",
    "    def set_value(self, val):\n",
    "        self.value = val\n",
    "\n",
    "    def get_right(self):\n",
    "        return self.right\n",
    "\n",
    "    def get_left(self):\n",
    "        return self.left\n",
    "\n",
    "    def insert_left(self, v):\n",
    "        t = BinaryTree(v)\n",
    "        if self.left:\n",
    "            t.left = self.left\n",
    "        self.left = t\n",
    "        return t\n",
    "\n",
    "    def insert_right(self, v):\n",
    "        t = BinaryTree(v)\n",
    "        if self.right:\n",
    "            t.right = self.right\n",
    "        self.right = t\n",
    "        return t\n",
    "\n",
    "\n",
    "# from pythonds.basic.stack import Stack\n",
    "# from pythonds.trees.binaryTree import BinaryTree\n",
    "\n",
    "def buildParseTree(fpexp):\n",
    "    fplist = fpexp.split()\n",
    "    pStack = []  # Stack()\n",
    "    eTree = BinaryTree('')\n",
    "    pStack.append(eTree)  # push(eTree)\n",
    "    currentTree = eTree\n",
    "\n",
    "    for i in fplist:\n",
    "        if i == '(':\n",
    "            currentTree.insert_left('')  # insertLeft('')\n",
    "            pStack.append(currentTree)  # push(currentTree)\n",
    "            currentTree = currentTree.get_left()  # getLeftChild()\n",
    "\n",
    "        elif i in ['+', '-', '*', '/']:\n",
    "            currentTree.set_value(i)  # setRootVal(i)\n",
    "            currentTree.insert_right('')  # insertRight('')\n",
    "            pStack.append(currentTree)  # push(currentTree)\n",
    "            currentTree = currentTree.get_right()  # getRightChild()\n",
    "\n",
    "        elif i == ')':\n",
    "            currentTree = pStack.pop()\n",
    "\n",
    "        elif i not in ['+', '-', '*', '/', ')']:\n",
    "            try:\n",
    "                currentTree.set_value(int(i))  # setRootVal(int(i))\n",
    "                parent = pStack.pop()\n",
    "                currentTree = parent\n",
    "\n",
    "            except ValueError:\n",
    "                raise ValueError(\"token '{}' is not a valid integer\".format(i))\n",
    "\n",
    "    return eTree\n",
    "\n",
    "\n",
    "pt = buildParseTree(\"( ( 10 + 5 ) * ( 6 - 7 ) \")\n",
    "G=nx.DiGraph()\n",
    "root=build_graph(G,None,pt )\n",
    "\n",
    "draw_graph(G)\n",
    "\n"
   ]
  },
  {
   "cell_type": "code",
   "execution_count": 7,
   "metadata": {},
   "outputs": [],
   "source": [
    "def getId=\n",
    "\n",
    "class No:\n",
    "    def __init__(self, v):\n",
    "        self.data=v\n",
    "        self.left=None\n",
    "        self.right=None\n",
    "        \n",
    "no=No(5)\n",
    "\n"
   ]
  },
  {
   "cell_type": "code",
   "execution_count": 38,
   "metadata": {},
   "outputs": [
    {
     "name": "stdout",
     "output_type": "stream",
     "text": [
      "['GTK', 'GTKAgg', 'GTKCairo', 'MacOSX', 'Qt4Agg', 'Qt5Agg', 'TkAgg', 'WX', 'WXAgg', 'GTK3Cairo', 'GTK3Agg', 'WebAgg', 'nbAgg', 'agg', 'cairo', 'gdk', 'pdf', 'pgf', 'ps', 'svg', 'template']\n"
     ]
    }
   ],
   "source": [
    "import matplotlib.rcsetup as rcsetup\n",
    "print(rcsetup.all_backends)\n",
    "\n"
   ]
  }
 ],
 "metadata": {
  "kernelspec": {
   "display_name": "Python 3",
   "language": "python",
   "name": "python3"
  },
  "language_info": {
   "codemirror_mode": {
    "name": "ipython",
    "version": 3
   },
   "file_extension": ".py",
   "mimetype": "text/x-python",
   "name": "python",
   "nbconvert_exporter": "python",
   "pygments_lexer": "ipython3",
   "version": "3.6.4"
  }
 },
 "nbformat": 4,
 "nbformat_minor": 2
}
