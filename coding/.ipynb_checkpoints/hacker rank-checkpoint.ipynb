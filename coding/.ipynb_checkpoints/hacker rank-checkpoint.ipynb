{
 "cells": [
  {
   "cell_type": "markdown",
   "metadata": {},
   "source": [
    "https://www.testdome.com/questions/python/two-sum/14289?questionIds=14288,14289&generatorId=92&type=fromtest&testDifficulty=Easy\n",
    "\n",
    "Write a function that, given a list and a target sum, returns zero-based indices of any two distinct elements whose sum is equal to the target sum. If there are no such elements, the function should return (-1, -1).\n",
    "\n",
    "For example, `find_two_sum([1, 3, 5, 7, 9], 12)` should return a tuple containing any of the following pairs of indices:\n",
    "```\n",
    "1 and 4 (3 + 9 = 12)\n",
    "2 and 3 (5 + 7 = 12)\n",
    "3 and 2 (7 + 5 = 12)\n",
    "4 and 1 (9 + 3 = 12)\n",
    "```\n"
   ]
  },
  {
   "cell_type": "code",
   "execution_count": 7,
   "metadata": {
    "code_folding": [
     1
    ]
   },
   "outputs": [
    {
     "name": "stdout",
     "output_type": "stream",
     "text": [
      "(3, 4)\n",
      "**********************************************************************\n",
      "File \"__main__\", line 11, in __main__.find_two_sum\n",
      "Failed example:\n",
      "    (3, 5) == find_two_sum([1, 3, 5, 7, 9], 12)\n",
      "Expected:\n",
      "    True\n",
      "Got:\n",
      "    False\n",
      "**********************************************************************\n",
      "1 items had failures:\n",
      "   1 of   1 in __main__.find_two_sum\n",
      "***Test Failed*** 1 failures.\n"
     ]
    }
   ],
   "source": [
    "# Это единственный комментарий который имеет смысл\n",
    "# I s\n",
    "def find_index(m,a):\n",
    "    try:\n",
    "        return a.index(m)\n",
    "    except :\n",
    "        return -1\n",
    "    \n",
    "    \n",
    "def find_two_sum(a, s):\n",
    "    '''\n",
    "    >>> (3, 5) == find_two_sum([1, 3, 5, 7, 9], 12)\n",
    "    True\n",
    "    '''\n",
    "    if len(a)<2: \n",
    "        return (-1,-1)\n",
    "\n",
    "    idx = dict( (v,i) for i,v in enumerate(a) )\n",
    "\n",
    "    for i in a:\n",
    "        m = s - i\n",
    "        k = idx.get(m,-1)\n",
    "        if k != -1 :\n",
    "            return (i,k)\n",
    "\n",
    "    return (-1, -1)\n",
    "\n",
    "\n",
    "print(find_two_sum([1, 3, 5, 7, 9], 12))\n",
    "\n",
    "\n",
    "if __name__ == '__main__':\n",
    "    import doctest; doctest.testmod()\n",
    "    \n"
   ]
  },
  {
   "cell_type": "markdown",
   "metadata": {},
   "source": [
    "https://stackoverflow.com/questions/28309430/edit-ipython-cell-in-an-external-editor\n",
    "\n",
    "\n",
    "Edit IPython cell in an external editor\n",
    "---\n",
    "\n",
    "This is what I came up with. I added 2 shortcuts:\n",
    "\n",
    "- 'g' to launch gvim with the content of the current cell (you can replace gvim with whatever text editor you like).\n",
    "- 'u' to update the content of the current cell with what was saved by gvim.\n",
    "So, when you want to edit the cell with your preferred editor, hit 'g', make the changes you want to the cell, save the file in your editor (and quit), then hit 'u'.\n",
    "\n",
    "Just execute this cell to enable these features:\n"
   ]
  },
  {
   "cell_type": "code",
   "execution_count": 10,
   "metadata": {},
   "outputs": [
    {
     "data": {
      "application/javascript": [
       "\n",
       "IPython.keyboard_manager.command_shortcuts.add_shortcut('g', {\n",
       "    handler : function (event) {\n",
       "        \n",
       "        var input = IPython.notebook.get_selected_cell().get_text();\n",
       "        console.log(input);\n",
       "//         var cmd = \"f = open('.toto.py', 'w');f.close()\";\n",
       "//         if (input != \"\") {\n",
       "//             cmd = '%%writefile .toto.py\\n' + input;\n",
       "//         }\n",
       "//         IPython.notebook.kernel.execute(cmd);\n",
       "//         cmd = \"import os;os.system('open -a /Applications/MacVim.app .toto.py')\";\n",
       "        cmd = \"!open -a /Applications/MacVim.app .toto.py\";\n",
       "        alert(cmd);\n",
       "        IPython.notebook.kernel.execute(cmd);\n",
       "        return false;\n",
       "    }}\n",
       ");\n",
       "\n",
       "IPython.keyboard_manager.command_shortcuts.add_shortcut('u', {\n",
       "    handler : function (event) {\n",
       "        function handle_output(msg) {\n",
       "            var ret = msg.content.text;\n",
       "            IPython.notebook.get_selected_cell().set_text(ret);\n",
       "        }\n",
       "        var callback = {'output': handle_output};\n",
       "        var cmd = \"f = open('.toto.py', 'r');print(f.read())\";\n",
       "        IPython.notebook.kernel.execute(cmd, {iopub: callback}, {silent: false});\n",
       "        return false;\n",
       "    }}\n",
       ");"
      ],
      "text/plain": [
       "<IPython.core.display.Javascript object>"
      ]
     },
     "metadata": {},
     "output_type": "display_data"
    }
   ],
   "source": [
    "%%javascript\n",
    "\n",
    "IPython.keyboard_manager.command_shortcuts.add_shortcut('g', {\n",
    "    handler : function (event) {\n",
    "        \n",
    "        var input = IPython.notebook.get_selected_cell().get_text();\n",
    "        console.log(input);\n",
    "//         var cmd = \"f = open('.toto.py', 'w');f.close()\";\n",
    "//         if (input != \"\") {\n",
    "//             cmd = '%%writefile .toto.py\\n' + input;\n",
    "//         }\n",
    "//         IPython.notebook.kernel.execute(cmd);\n",
    "//         cmd = \"import os;os.system('open -a /Applications/MacVim.app .toto.py')\";\n",
    "        cmd = \"!open -a /Applications/MacVim.app .toto.py\";\n",
    "        alert(cmd);\n",
    "        IPython.notebook.kernel.execute(cmd);\n",
    "        return false;\n",
    "    }}\n",
    ");\n",
    "\n",
    "IPython.keyboard_manager.command_shortcuts.add_shortcut('u', {\n",
    "    handler : function (event) {\n",
    "        function handle_output(msg) {\n",
    "            var ret = msg.content.text;\n",
    "            IPython.notebook.get_selected_cell().set_text(ret);\n",
    "        }\n",
    "        var callback = {'output': handle_output};\n",
    "        var cmd = \"f = open('.toto.py', 'r');print(f.read())\";\n",
    "        IPython.notebook.kernel.execute(cmd, {iopub: callback}, {silent: false});\n",
    "        return false;\n",
    "    }}\n",
    ");\n"
   ]
  },
  {
   "cell_type": "code",
   "execution_count": null,
   "metadata": {},
   "outputs": [],
   "source": [
    "import os;\n",
    "os.system('open -a /Applications/MacVim.app .toto.py')"
   ]
  },
  {
   "cell_type": "code",
   "execution_count": 7,
   "metadata": {},
   "outputs": [],
   "source": [
    "!open -a /Applications/MacVim.app .toto.py\n"
   ]
  }
 ],
 "metadata": {
  "kernelspec": {
   "display_name": "Python 3",
   "language": "python",
   "name": "python3"
  },
  "language_info": {
   "codemirror_mode": {
    "name": "ipython",
    "version": 3
   },
   "file_extension": ".py",
   "mimetype": "text/x-python",
   "name": "python",
   "nbconvert_exporter": "python",
   "pygments_lexer": "ipython3",
   "version": "3.6.2"
  },
  "varInspector": {
   "cols": {
    "lenName": 16,
    "lenType": 16,
    "lenVar": 40
   },
   "kernels_config": {
    "python": {
     "delete_cmd_postfix": "",
     "delete_cmd_prefix": "del ",
     "library": "var_list.py",
     "varRefreshCmd": "print(var_dic_list())"
    },
    "r": {
     "delete_cmd_postfix": ") ",
     "delete_cmd_prefix": "rm(",
     "library": "var_list.r",
     "varRefreshCmd": "cat(var_dic_list()) "
    }
   },
   "types_to_exclude": [
    "module",
    "function",
    "builtin_function_or_method",
    "instance",
    "_Feature"
   ],
   "window_display": false
  }
 },
 "nbformat": 4,
 "nbformat_minor": 2
}
