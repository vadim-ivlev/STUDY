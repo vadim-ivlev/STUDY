{
 "cells": [
  {
   "cell_type": "markdown",
   "metadata": {},
   "source": [
    "**1.1 Is Unique**: Implement an algorithm to determine if a string has all unique characters. What if you cannot use additional data structures?"
   ]
  },
  {
   "cell_type": "code",
   "execution_count": 27,
   "metadata": {},
   "outputs": [
    {
     "name": "stdout",
     "output_type": "stream",
     "text": [
      "3.06 µs ± 49.1 ns per loop (mean ± std. dev. of 7 runs, 100000 loops each)\n"
     ]
    }
   ],
   "source": [
    "# from IPython.core.debugger import set_trace\n",
    "\n",
    "def has_unique_characters(str=''):\n",
    "    '''\n",
    "    Checks if a string has all unique characters\n",
    "    \n",
    "    >>> has_unique_characters('abc')\n",
    "    True\n",
    "    >>> has_unique_characters()\n",
    "    True\n",
    "    >>> has_unique_characters('abac')\n",
    "    False\n",
    "    '''\n",
    "#     1/ time: 1.74 µs ± 14.5 ns\n",
    "#     unique_chars = dict.fromkeys(str,1)\n",
    "#     return len(unique_chars)==len(str)\n",
    "\n",
    "#     2/ time: 1.04 µs ± 7.39 ns using dictionary\n",
    "#     unique_chars ={}\n",
    "#     for char in str:\n",
    "#         if char in unique_chars:\n",
    "#             return False\n",
    "#         unique_chars[char]=1\n",
    "#     return True\n",
    "\n",
    "#     3/ 1.4 µs ± 19.1 ns using a set\n",
    "#     char_set =set()\n",
    "#     for char in str:\n",
    "#         if char in char_set:\n",
    "#             return False\n",
    "#         char_set.add(char)\n",
    "#     return True\n",
    "\n",
    "#     4/ 1.38 µs ± 8 ns using a bit vector\n",
    "    bit_vector =0b0\n",
    "    pos_a=ord('a')\n",
    "#     set_trace()\n",
    "    \n",
    "    for char in str:\n",
    "        pos_char=ord(char)-pos_a\n",
    "#         print('vec:{:0>35b}'.format(bit_vector))\n",
    "#         print('pos:{:0>35b}'.format(1 << pos_char))\n",
    "        if bit_vector & (1 << pos_char):\n",
    "            return False\n",
    "        bit_vector |= (1 << pos_char)\n",
    "    return True\n",
    "\n",
    "\n",
    "# print(has_unique_characters('qwertyuuidfsdgsg'))\n",
    "\n",
    "\n",
    "%timeit has_unique_characters('qwertyuuidfsdgsg')\n",
    "# import doctest; doctest.testmod()"
   ]
  },
  {
   "cell_type": "markdown",
   "metadata": {},
   "source": [
    "&nbsp;\n",
    "\n",
    "&nbsp;\n",
    "\n",
    "---\n",
    "**1.2 Check Permutation:** Given two strings,write a method to decide if one is a permutation of the\n",
    "other.\n"
   ]
  },
  {
   "cell_type": "code",
   "execution_count": 37,
   "metadata": {},
   "outputs": [
    {
     "name": "stdout",
     "output_type": "stream",
     "text": [
      "True\n"
     ]
    }
   ],
   "source": [
    "# def isPermutations(s1,s2):\n",
    "#     len1 = len(s1)\n",
    "#     len2 = len(s2)\n",
    "    \n",
    "#     if len1 != len2:\n",
    "#         return False\n",
    "    \n",
    "#     ss1=sorted(s1)\n",
    "#     ss2=sorted(s2)\n",
    "    \n",
    "#     for i in range(0,len1):\n",
    "#         if ss1[i] != ss2[i]:\n",
    "#             return False\n",
    "#     return True\n",
    "\n",
    "\n",
    "def isPermutations(s1,s2):\n",
    "    if len(s1) != len(s2):\n",
    "        return False\n",
    "\n",
    "    char_counts={}\n",
    "\n",
    "    \n",
    "    # fill it    \n",
    "    for c in s1:\n",
    "        char_counts[c] = char_counts.get(c,0) +1\n",
    "\n",
    "    # empty it\n",
    "    for c in s2:\n",
    "        char_counts[c] = char_counts.get(c,0) -1\n",
    "\n",
    "    # check if all are 0\n",
    "    for c in char_counts:\n",
    "        if char_counts[c] != 0:\n",
    "            return False\n",
    "\n",
    "    return True\n",
    "\n",
    "\n",
    "\n",
    "\n",
    "        \n",
    "print( isPermutations('abcdefffgh', 'dcabefghff') )\n",
    "\n",
    "\n"
   ]
  },
  {
   "cell_type": "code",
   "execution_count": 52,
   "metadata": {},
   "outputs": [
    {
     "data": {
      "text/plain": [
       "97"
      ]
     },
     "execution_count": 52,
     "metadata": {},
     "output_type": "execute_result"
    }
   ],
   "source": []
  }
 ],
 "metadata": {
  "kernelspec": {
   "display_name": "Python 3",
   "language": "python",
   "name": "python3"
  },
  "language_info": {
   "codemirror_mode": {
    "name": "ipython",
    "version": 3
   },
   "file_extension": ".py",
   "mimetype": "text/x-python",
   "name": "python",
   "nbconvert_exporter": "python",
   "pygments_lexer": "ipython3",
   "version": "3.6.2"
  },
  "varInspector": {
   "cols": {
    "lenName": 16,
    "lenType": 16,
    "lenVar": 40
   },
   "kernels_config": {
    "python": {
     "delete_cmd_postfix": "",
     "delete_cmd_prefix": "del ",
     "library": "var_list.py",
     "varRefreshCmd": "print(var_dic_list())"
    },
    "r": {
     "delete_cmd_postfix": ") ",
     "delete_cmd_prefix": "rm(",
     "library": "var_list.r",
     "varRefreshCmd": "cat(var_dic_list()) "
    }
   },
   "types_to_exclude": [
    "module",
    "function",
    "builtin_function_or_method",
    "instance",
    "_Feature"
   ],
   "window_display": false
  }
 },
 "nbformat": 4,
 "nbformat_minor": 2
}
