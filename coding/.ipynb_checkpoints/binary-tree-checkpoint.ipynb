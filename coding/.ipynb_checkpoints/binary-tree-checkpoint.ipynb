{
 "cells": [
  {
   "cell_type": "code",
   "execution_count": null,
   "metadata": {},
   "outputs": [],
   "source": [
    "class BinaryTree:\n",
    "    def __init__(self, val):\n",
    "        self.value=val\n",
    "        self.right=None\n",
    "        self.left=None\n",
    "        \n",
    "    def get_value():\n",
    "        return self.value\n",
    "    \n",
    "    def set_value(val):\n",
    "        self.value=val\n",
    "        \n",
    "    def get_right"
   ]
  }
 ],
 "metadata": {
  "kernelspec": {
   "display_name": "Python 3",
   "language": "python",
   "name": "python3"
  },
  "language_info": {
   "codemirror_mode": {
    "name": "ipython",
    "version": 3
   },
   "file_extension": ".py",
   "mimetype": "text/x-python",
   "name": "python",
   "nbconvert_exporter": "python",
   "pygments_lexer": "ipython3",
   "version": "3.6.4"
  }
 },
 "nbformat": 4,
 "nbformat_minor": 2
}
