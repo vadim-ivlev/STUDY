{
 "cells": [
  {
   "cell_type": "markdown",
   "metadata": {},
   "source": [
    "### Fibonanchi numbers"
   ]
  },
  {
   "cell_type": "code",
   "execution_count": 1,
   "metadata": {},
   "outputs": [
    {
     "data": {
      "text/plain": [
       "20365011074"
      ]
     },
     "execution_count": 1,
     "metadata": {},
     "output_type": "execute_result"
    }
   ],
   "source": [
    "a=[1,1]\n",
    "\n",
    "def get(arr,i):\n",
    "#     return arr[i] if i < len(arr) else None\n",
    "    return (arr[i:i+1]+[None])[0]\n",
    "\n",
    "def f0(n):\n",
    "    return 1 if n<2 else f0(n-2)+f0(n-1)\n",
    "\n",
    "def f(n):\n",
    "    if  get(a,n) is None: \n",
    "        a[n:n+1] = [f(n-2) + f(n-1)]\n",
    "    return a[n]\n",
    "\n",
    "def f2(n):\n",
    "    if n >= len(a):\n",
    "        a.append(f(n-2) + f(n-1))\n",
    "    return a[n]\n",
    "\n",
    "    \n",
    "\n",
    "\n",
    "f2(50)"
   ]
  },
  {
   "cell_type": "code",
   "execution_count": 2,
   "metadata": {},
   "outputs": [
    {
     "data": {
      "application/javascript": [
       "\n",
       "let a = []\n",
       "a[0]=a[1]=1;\n",
       "\n",
       "\n",
       "function f(n){\n",
       "    if (!a[n]) \n",
       "        a[n]= f(n-2) +f(n-1);\n",
       "    return (a[n]);\n",
       "}\n",
       "\n",
       "f(100)\n",
       "element.html(a.toString().replace(/,/g,', '));"
      ],
      "text/plain": [
       "<IPython.core.display.Javascript object>"
      ]
     },
     "metadata": {},
     "output_type": "display_data"
    }
   ],
   "source": [
    "%%javascript\n",
    "\n",
    "let a = []\n",
    "a[0]=a[1]=1;\n",
    "\n",
    "\n",
    "function f(n){\n",
    "    if (!a[n]) \n",
    "        a[n]= f(n-2) +f(n-1);\n",
    "    return (a[n]);\n",
    "}\n",
    "\n",
    "f(100)\n",
    "element.html(a.toString().replace(/,/g,', '));"
   ]
  },
  {
   "cell_type": "code",
   "execution_count": null,
   "metadata": {
    "collapsed": true
   },
   "outputs": [],
   "source": []
  }
 ],
 "metadata": {
  "kernelspec": {
   "display_name": "Python 3",
   "language": "python",
   "name": "python3"
  },
  "language_info": {
   "codemirror_mode": {
    "name": "ipython",
    "version": 3
   },
   "file_extension": ".py",
   "mimetype": "text/x-python",
   "name": "python",
   "nbconvert_exporter": "python",
   "pygments_lexer": "ipython3",
   "version": "3.6.2"
  }
 },
 "nbformat": 4,
 "nbformat_minor": 2
}
