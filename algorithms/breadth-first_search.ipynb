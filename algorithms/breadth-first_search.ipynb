{
 "cells": [
  {
   "cell_type": "markdown",
   "metadata": {},
   "source": [
    "# Breadth First Search\n",
    "\n",
    "Find a mango seller.\n",
    "\n",
    "<img src=\"friends_of_friends.png\" width=\"400\" align=\"\">\n",
    "\n",
    "Hint: her name should ends with 'm'"
   ]
  },
  {
   "cell_type": "code",
   "execution_count": 9,
   "metadata": {},
   "outputs": [
    {
     "name": "stdout",
     "output_type": "stream",
     "text": [
      " you    \n",
      "*you     alice   bob     claire \n",
      "*you    *alice   bob     claire  peggy  \n",
      "*you    *alice  *bob     claire  peggy   anuj    peggy  \n",
      "*you    *alice  *bob    *claire  peggy   anuj    peggy   thom    jonny  \n",
      "*you    *alice  *bob    *claire *peggy   anuj    peggy   thom    jonny  \n",
      "*you    *alice  *bob    *claire *peggy  *anuj    peggy   thom    jonny  \n",
      "*you    *alice  *bob    *claire *peggy  *anuj    thom    jonny  \n"
     ]
    },
    {
     "data": {
      "text/plain": [
       "[-5, -4, -3, -2, -1]"
      ]
     },
     "execution_count": 9,
     "metadata": {},
     "output_type": "execute_result"
    }
   ],
   "source": [
    "from collections import deque\n",
    "\n",
    "\n",
    "def person_is_seller(name):\n",
    "    return name[-1] == 'm'\n",
    "\n",
    "\n",
    "graph = {\n",
    "    \"you\": [\"alice\", \"bob\", \"claire\"],\n",
    "    \"bob\": [\"anuj\", \"peggy\"],\n",
    "    \"alice\": [\"peggy\"],\n",
    "    \"claire\": [\"thom\", \"jonny\"],\n",
    "    \"anuj\": [],\n",
    "    \"peggy\": [],\n",
    "    \"thom\": [],\n",
    "    \"jonny\": []\n",
    "}\n",
    "\n",
    "def to_str(a,s=''):\n",
    "    return \"\".join([s+'{0:7}'.format(v) for v in a])\n",
    "\n",
    "\n",
    "def BFS(node):\n",
    "    \"\"\"\n",
    "    Find a person selling bananas.\n",
    "    \"\"\"\n",
    "    # a queue for nodes to explore\n",
    "    queue = []\n",
    "\n",
    "    # list of visited nodes\n",
    "    visited = {}\n",
    "\n",
    "    # add node to the queue\n",
    "    queue.append(node)\n",
    "\n",
    "    # while queue is not empty do:\n",
    "    while len(queue) > 0:\n",
    "        print(to_str(visited,'*') + to_str(queue,' '))\n",
    "\n",
    "        # remove the first element from the queue\n",
    "        n = queue.pop(0)\n",
    "\n",
    "        # if it is a seller return it. Done.\n",
    "        if person_is_seller(n):\n",
    "            return n\n",
    "        \n",
    "        visited[n] = True\n",
    "        # append node's unvisited friends to the queue\n",
    "        #queue.extend([k for k in graph[n] if k not in visited])\n",
    "        queue.extend(filter(lambda x: x not in visited, graph[n]))\n",
    "\n",
    "    return None\n",
    "\n",
    "\n",
    "BFS(\"you\")\n"
   ]
  },
  {
   "cell_type": "code",
   "execution_count": null,
   "metadata": {
    "collapsed": true
   },
   "outputs": [],
   "source": []
  }
 ],
 "metadata": {
  "hide_input": false,
  "kernelspec": {
   "display_name": "Python 3",
   "language": "python",
   "name": "python3"
  },
  "language_info": {
   "codemirror_mode": {
    "name": "ipython",
    "version": 3
   },
   "file_extension": ".py",
   "mimetype": "text/x-python",
   "name": "python",
   "nbconvert_exporter": "python",
   "pygments_lexer": "ipython3",
   "version": "3.6.2"
  },
  "varInspector": {
   "cols": {
    "lenName": 16,
    "lenType": 16,
    "lenVar": 40
   },
   "kernels_config": {
    "python": {
     "delete_cmd_postfix": "",
     "delete_cmd_prefix": "del ",
     "library": "var_list.py",
     "varRefreshCmd": "print(var_dic_list())"
    },
    "r": {
     "delete_cmd_postfix": ") ",
     "delete_cmd_prefix": "rm(",
     "library": "var_list.r",
     "varRefreshCmd": "cat(var_dic_list()) "
    }
   },
   "position": {
    "height": "509px",
    "left": "1027px",
    "right": "9px",
    "top": "5px",
    "width": "364px"
   },
   "types_to_exclude": [
    "module",
    "function",
    "builtin_function_or_method",
    "instance",
    "_Feature"
   ],
   "window_display": false
  }
 },
 "nbformat": 4,
 "nbformat_minor": 2
}
