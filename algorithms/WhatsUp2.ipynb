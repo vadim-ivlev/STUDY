{
 "cells": [
  {
   "cell_type": "markdown",
   "metadata": {
    "collapsed": true
   },
   "source": [
    "## hello"
   ]
  },
  {
   "cell_type": "code",
   "execution_count": 23,
   "metadata": {
    "code_folding": [],
    "hide_input": true
   },
   "outputs": [
    {
     "name": "stdout",
     "output_type": "stream",
     "text": [
      "['b', 'c', 'd']\n",
      "['b', 'd', 'c']\n"
     ]
    }
   ],
   "source": [
    "class R:\n",
    "    \n",
    "    \n",
    "    def __init__(self, size=3):\n",
    "        self.__N=size\n",
    "        self.__h={}\n",
    "        self.__q=[]\n",
    "\n",
    "        \n",
    "        \n",
    "    def __remove(self,k):\n",
    "        if k in self.__h:\n",
    "            del self.__h[k]\n",
    "            self.__q.remove(k)\n",
    "            \n",
    " \n",
    "    def __make_recent(self,k):\n",
    "        if k in self.__q: \n",
    "            self.__q.remove(k)\n",
    "        self.__q.append(k)\n",
    "\n",
    "        \n",
    "    def __append(self,k,v):\n",
    "        self.__h[k]=v\n",
    "        self.__q.append(k)\n",
    "\n",
    "        \n",
    "    def __remove_oldest(self):\n",
    "        if len(self.__q) >0:\n",
    "            k = self.__q.pop(0)\n",
    "            del self.__h[k]\n",
    "        \n",
    "        \n",
    "    def put(self,k,v):\n",
    "        self.__remove(k)\n",
    "        \n",
    "        if len(self.__h) >= self.__N :\n",
    "            self.__remove_oldest()\n",
    "            \n",
    "        self.__append(k, v)\n",
    "        \n",
    "        \n",
    "    def get(self, k):\n",
    "        self.__make_recent(k)\n",
    "        return self.__h[k]\n",
    "    \n",
    "    @property\n",
    "    def q(self):\n",
    "        return self.__q\n",
    "        \n",
    "        \n",
    "        \n",
    "r = R(3)\n",
    "r.put('a','aa')\n",
    "r.put('b','bb')\n",
    "r.put('c','cc')\n",
    "r.put('d','dd')\n",
    "print(r.q)\n",
    "r.get('c')\n",
    "print(r.q)\n",
    "\n",
    "assert r.q == ['b', 'd', 'c']\n",
    "\n",
    "    \n",
    "# %save 'wu2.py'"
   ]
  }
 ],
 "metadata": {
  "hide_input": false,
  "kernelspec": {
   "display_name": "Python 3",
   "language": "python",
   "name": "python3"
  },
  "language_info": {
   "codemirror_mode": {
    "name": "ipython",
    "version": 3
   },
   "file_extension": ".py",
   "mimetype": "text/x-python",
   "name": "python",
   "nbconvert_exporter": "python",
   "pygments_lexer": "ipython3",
   "version": "3.6.2"
  }
 },
 "nbformat": 4,
 "nbformat_minor": 2
}
