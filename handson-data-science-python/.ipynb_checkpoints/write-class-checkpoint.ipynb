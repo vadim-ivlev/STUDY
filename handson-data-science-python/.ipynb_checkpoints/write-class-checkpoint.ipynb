{
 "cells": [
  {
   "cell_type": "code",
   "execution_count": 6,
   "metadata": {},
   "outputs": [
    {
     "data": {
      "application/javascript": [
       "\n",
       "var a=7;\n",
       "element.text('hello');"
      ],
      "text/plain": [
       "<IPython.core.display.Javascript object>"
      ]
     },
     "metadata": {},
     "output_type": "display_data"
    }
   ],
   "source": [
    "%%javascript\n",
    "\n",
    "var a=7;\n",
    "element.text('hello');"
   ]
  },
  {
   "cell_type": "markdown",
   "metadata": {},
   "source": [
    "## Write class\n",
    "R(10)\n",
    "\n",
    "R.add(v1,k1)\n",
    "\n",
    "...\n",
    "\n",
    "R.add(v10,v10)\n"
   ]
  },
  {
   "cell_type": "code",
   "execution_count": 23,
   "metadata": {},
   "outputs": [
    {
     "data": {
      "application/javascript": [
       "\n",
       "class R {\n",
       "    aa(){\n",
       "        return 55;\n",
       "    }\n",
       "    constructor(size){\n",
       "        this.size=size;\n",
       "        this.queue=[];\n",
       "        this.hash={};\n",
       "    }\n",
       "    \n",
       "    put(k,v){\n",
       "        this.hash[k]=v;\n",
       "    }\n",
       "    \n",
       "    get s() {return this.size}\n",
       "}\n",
       "\n",
       "let r=new R(10);\n",
       "element.text(r.s);\n",
       "element.text(r.aa);"
      ],
      "text/plain": [
       "<IPython.core.display.Javascript object>"
      ]
     },
     "metadata": {},
     "output_type": "display_data"
    }
   ],
   "source": [
    "%%javascript\n",
    "\n",
    "class R {\n",
    "    \n",
    "    aa(){\n",
    "        return 55;\n",
    "    }\n",
    "    \n",
    "    constructor(size){\n",
    "        this.size=size;\n",
    "        this.queue=[];\n",
    "        this.hash={};\n",
    "    }\n",
    "    \n",
    "    put(k,v){\n",
    "        this.hash[k]=v;\n",
    "    }\n",
    "    \n",
    "    get s() {return this.size}\n",
    "}\n",
    "\n",
    "let r=new R(10);\n",
    "\n",
    "\n",
    "element.text(r.s);\n",
    "element.text(r.aa);"
   ]
  }
 ],
 "metadata": {
  "kernelspec": {
   "display_name": "Python 3",
   "language": "python",
   "name": "python3"
  },
  "language_info": {
   "codemirror_mode": {
    "name": "ipython",
    "version": 3
   },
   "file_extension": ".py",
   "mimetype": "text/x-python",
   "name": "python",
   "nbconvert_exporter": "python",
   "pygments_lexer": "ipython3",
   "version": "3.6.2"
  }
 },
 "nbformat": 4,
 "nbformat_minor": 2
}
