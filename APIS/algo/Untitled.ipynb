{
 "cells": [
  {
   "cell_type": "code",
   "execution_count": 3,
   "metadata": {},
   "outputs": [
    {
     "name": "stdout",
     "output_type": "stream",
     "text": [
      "[1, 3]\n",
      "[1, 2, 3, 5, 7]\n"
     ]
    }
   ],
   "source": [
    "def merge(l1,l2):\n",
    "    l=[]\n",
    "    for i in range(len(l1)+len(l2)):\n",
    "        if len(l1)==0:\n",
    "            l.append( l2.pop(0))\n",
    "        elif len(l2)==0:\n",
    "            l.append( l1.pop(0))\n",
    "        elif l1[0]<l2[0]:\n",
    "            l.append( l1.pop(0))\n",
    "        else:\n",
    "            l.append( l2.pop(0))\n",
    "    return l\n",
    "\n",
    "\n",
    "\n",
    "def merge_sort(l):\n",
    "    if len(l)==0 or len(l)==1:\n",
    "        return l\n",
    "    m=len(l)//2 \n",
    "    sorted1=merge_sort(l[slice(m)])\n",
    "    sorted2=merge_sort(l[slice(m,None)])\n",
    "    return merge(sorted1,sorted2)\n",
    "\n",
    "\n",
    "print(merge([3],[1]))\n",
    "print( merge_sort([3,5,2,1,7]))"
   ]
  },
  {
   "cell_type": "code",
   "execution_count": 52,
   "metadata": {},
   "outputs": [
    {
     "name": "stdout",
     "output_type": "stream",
     "text": [
      "3\n",
      "[1, 2, 3, 5, 7]\n"
     ]
    }
   ],
   "source": [
    "import random\n",
    "def quick_sort(l):\n",
    "    # base case\n",
    "    if len(l)==0 or len(l)==1:\n",
    "        return l\n",
    "    elif len(l)==2:\n",
    "        if l[0]<l[1]:\n",
    "            return l\n",
    "        else:\n",
    "            return [l[1],l[0]]\n",
    "    \n",
    "    \n",
    "    # pick a random pivot element\n",
    "    p = l[random.randrange(len(l))]\n",
    "    print(p)\n",
    "    # make a list of elements smaller than pivot and sort it \n",
    "    sorted1=quick_sort([e for e in l if e<p])\n",
    "    # make a list of elements bigger than pivot and sort it \n",
    "    sorted2=quick_sort([e for e in l if e>p])\n",
    "    return sorted1+[p]+sorted2\n",
    "\n",
    "print( quick_sort([3,5,2,1,7]))"
   ]
  },
  {
   "cell_type": "code",
   "execution_count": null,
   "metadata": {
    "collapsed": true
   },
   "outputs": [],
   "source": []
  }
 ],
 "metadata": {
  "kernelspec": {
   "display_name": "Python 3",
   "language": "python",
   "name": "python3"
  },
  "language_info": {
   "codemirror_mode": {
    "name": "ipython",
    "version": 3
   },
   "file_extension": ".py",
   "mimetype": "text/x-python",
   "name": "python",
   "nbconvert_exporter": "python",
   "pygments_lexer": "ipython3",
   "version": "3.6.2"
  }
 },
 "nbformat": 4,
 "nbformat_minor": 2
}
