{
 "cells": [
  {
   "cell_type": "code",
   "execution_count": 2,
   "metadata": {},
   "outputs": [
    {
     "name": "stdout",
     "output_type": "stream",
     "text": [
      "Say something. Ctll-C to finish, or say 'Stop it'\n",
      "...\n",
      "...\n",
      "...\n",
      "stopped\n"
     ]
    }
   ],
   "source": [
    "#!/usr/bin/env python3\n",
    "\n",
    "# text recognition in python\n",
    "# 1. install Pyaudio \n",
    "#               https://people.csail.mit.edu/hubert/pyaudio/\n",
    "# 2. pip install SpeechRecognition \n",
    "#      example  https://pythonprogramminglanguage.com/speech-recognition/\n",
    "#      doc      https://pypi.python.org/pypi/SpeechRecognition/\n",
    "# \n",
    "# you should use \n",
    "#   r.recognize_google(audio, key=\"GOOGLE_SPEECH_RECOGNITION_API_KEY\")\n",
    "\n",
    "\n",
    "import speech_recognition as sr\n",
    "from tts import say\n",
    "\n",
    "\n",
    "\n",
    "# get audio from the microphone\n",
    "r = sr.Recognizer()\n",
    "# silence threshhold to stop listening\n",
    "r.pause_threshold = 0.5\n",
    "\n",
    "print(\"Say something. Ctll-C to finish, or say 'Stop it'\")\n",
    "s=''\n",
    "while s!='stop it':\n",
    "    with sr.Microphone() as source: audio = r.listen(source)\n",
    "\n",
    "    print(\"...\")\n",
    "\n",
    "    try:\n",
    "        s = r.recognize_google(audio)\n",
    "        say(\"Did you say \" + s +'?')\n",
    "\n",
    "    except sr.UnknownValueError:\n",
    "        print(\"Could not understand audio\")\n",
    "    except sr.RequestError as e:\n",
    "        print(\"Could not request results; {0}\".format(e))\n",
    "\n",
    "print('stopped')\n",
    "say(\"See you!\")"
   ]
  },
  {
   "cell_type": "code",
   "execution_count": null,
   "metadata": {
    "collapsed": true
   },
   "outputs": [],
   "source": []
  }
 ],
 "metadata": {
  "kernelspec": {
   "display_name": "Python 3",
   "language": "python",
   "name": "python3"
  },
  "language_info": {
   "codemirror_mode": {
    "name": "ipython",
    "version": 3
   },
   "file_extension": ".py",
   "mimetype": "text/x-python",
   "name": "python",
   "nbconvert_exporter": "python",
   "pygments_lexer": "ipython3",
   "version": "3.6.2"
  }
 },
 "nbformat": 4,
 "nbformat_minor": 2
}
